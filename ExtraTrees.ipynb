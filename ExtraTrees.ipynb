{
 "cells": [
  {
   "cell_type": "code",
   "execution_count": null,
   "metadata": {
    "id": "RSuvpi6ZshWr"
   },
   "outputs": [],
   "source": [
    "path_train='/content/drive/My Drive/Colab_data/Data_Mining/Data-Mining-Project/dataset/train.csv'\n",
    "path_test='/content/drive/My Drive/Colab_data/Data_Mining/Data-Mining-Project/dataset/test.csv'"
   ]
  },
  {
   "cell_type": "code",
   "execution_count": null,
   "metadata": {
    "id": "ubXqMFbhssDE"
   },
   "outputs": [],
   "source": [
    "import pandas as pd"
   ]
  },
  {
   "cell_type": "code",
   "execution_count": null,
   "metadata": {
    "id": "VApe5SnyvYJH"
   },
   "outputs": [],
   "source": [
    "class_names = ['toxic', 'severe_toxic', 'obscene', 'threat', 'insult', 'identity_hate']"
   ]
  },
  {
   "cell_type": "code",
   "execution_count": null,
   "metadata": {
    "id": "IpIxC4Tqson2"
   },
   "outputs": [],
   "source": [
    "train = pd.read_csv(path_train)\n",
    "test = pd.read_csv(path_test)"
   ]
  },
  {
   "cell_type": "code",
   "execution_count": null,
   "metadata": {
    "id": "0cZIGxqnsqv1"
   },
   "outputs": [],
   "source": [
    "vocab = pd.concat([train['comment_text'],  test['comment_text']])"
   ]
  },
  {
   "cell_type": "code",
   "execution_count": null,
   "metadata": {
    "id": "Wn1uf45fs1ZQ"
   },
   "outputs": [],
   "source": [
    "clean_word_dict={'ａ': 'a',\n",
    " '！': ' !',\n",
    " '＋': ' +',\n",
    " '－': ' -',\n",
    " '．': ' .',\n",
    " '０': '0',\n",
    " '１': '1',\n",
    " '２': '2',\n",
    " '３': '3',\n",
    " '４': '4',\n",
    " '５': '5',\n",
    " '６': '6',\n",
    " '７': '7',\n",
    " '８': '8',\n",
    " '９': '9',\n",
    " '＝': ' =',\n",
    " '？': ' ?',\n",
    " 'Ａ': 'a',\n",
    " 'Ｂ': 'b',\n",
    " 'Ｃ': 'c',\n",
    " 'Ｄ': 'd',\n",
    " 'Ｅ': 'e',\n",
    " 'Ｆ': 'f',\n",
    " 'Ｇ': 'g',\n",
    " 'Ｈ': 'h',\n",
    " 'Ｉ': 'i',\n",
    " 'Ｊ': 'j',\n",
    " 'Ｋ': 'k',\n",
    " 'Ｌ': 'l',\n",
    " 'Ｍ': 'm',\n",
    " 'Ｎ': 'n',\n",
    " 'Ｏ': 'o',\n",
    " 'Ｐ': 'p',\n",
    " 'Ｑ': 'q',\n",
    " 'Ｒ': 'r',\n",
    " 'Ｓ': 's',\n",
    " 'Ｔ': 't',\n",
    " 'Ｕ': 'u',\n",
    " 'Ｖ': 'v',\n",
    " 'Ｗ': 'w',\n",
    " 'Ｘ': 'x',\n",
    " 'Ｙ': 'y',\n",
    " 'Ｚ': 'z',\n",
    " 'ｂ': 'b',\n",
    " 'ｃ': 'c',\n",
    " 'ｄ': 'd',\n",
    " 'ｅ': 'e',\n",
    " 'ｆ': 'f',\n",
    " 'ｇ': 'g',\n",
    " 'ｈ': 'h',\n",
    " 'ｉ': 'i',\n",
    " 'ｊ': 'j',\n",
    " 'ｋ': 'k',\n",
    " 'ｌ': 'l',\n",
    " 'ｍ': 'm',\n",
    " 'ｎ': 'n',\n",
    " 'ｏ': 'o',\n",
    " 'ｐ': 'p',\n",
    " 'ｑ': 'q',\n",
    " 'ｒ': 'r',\n",
    " 'ｓ': 's',\n",
    " 'ｔ': 't',\n",
    " 'ｕ': 'u',\n",
    " 'ｖ': 'v',\n",
    " 'ｗ': 'w',\n",
    " 'ｘ': 'x',\n",
    " 'ｙ': 'y',\n",
    " 'ｚ': 'z'}"
   ]
  },
  {
   "cell_type": "code",
   "execution_count": null,
   "metadata": {
    "id": "j-Hc73KEs3Ex"
   },
   "outputs": [],
   "source": [
    "import re\n",
    "import string\n",
    "def clean_dataset(word):\n",
    "    word = word.lower()\n",
    "    word = re.sub(r\"https?:\\/\\/(www\\.)?[-a-zA-Z0-9@:%._\\+~#=]{2,256}\\.[a-z]{2,6}\\b([-a-zA-Z0-9@:%_\\+.~#?&//=]*)\", \"\", word)\n",
    "    word = re.sub(r\"(25[0-5]|2[0-4][0-9]|[01]?[0-9][0-9]?)(\\.(25[0-5]|2[0-4][0-9]|[01]?[0-9][0-9]?)){3}\", \"\", word)\n",
    "    for typo, correct in clean_word_dict.items():\n",
    "        word = re.sub(typo, \" \" + correct + \" \", word)\n",
    "    symbols = re.compile(f'([{string.punctuation}“”¨«»®´·º½¾¿¡§£₤‘’])')\n",
    "    word=symbols.sub(r' \\1 ', word)\n",
    "    return word\n",
    "\n",
    "train_comments = []\n",
    "test_comments = []\n",
    "for comment in train['comment_text']:\n",
    "    train_comments.append(clean_dataset(comment))\n",
    "    \n",
    "for comment in test['comment_text']:\n",
    "    test_comments.append(clean_dataset(comment))"
   ]
  },
  {
   "cell_type": "code",
   "execution_count": null,
   "metadata": {
    "id": "a4mg5vsitWcJ"
   },
   "outputs": [],
   "source": [
    "transform_function = TfidfVectorizer(\n",
    "    sublinear_tf=1,\n",
    "    strip_accents='unicode',\n",
    "    analyzer='word',\n",
    "    token_pattern=r'\\w{1,}',\n",
    "    ngram_range=(1, 2),\n",
    "    max_features=10000)"
   ]
  },
  {
   "cell_type": "code",
   "execution_count": null,
   "metadata": {
    "colab": {
     "base_uri": "https://localhost:8080/"
    },
    "id": "IeT74ue7v4M0",
    "outputId": "c1d55dd4-1f9a-4dc5-8eda-e6aa8c147d04"
   },
   "outputs": [
    {
     "data": {
      "text/plain": [
       "TfidfVectorizer(analyzer='word', binary=False, decode_error='strict',\n",
       "                dtype=<class 'numpy.float64'>, encoding='utf-8',\n",
       "                input='content', lowercase=True, max_df=1.0, max_features=10000,\n",
       "                min_df=1, ngram_range=(1, 2), norm='l2', preprocessor=None,\n",
       "                smooth_idf=True, stop_words=None, strip_accents='unicode',\n",
       "                sublinear_tf=1, token_pattern='\\\\w{1,}', tokenizer=None,\n",
       "                use_idf=True, vocabulary=None)"
      ]
     },
     "execution_count": 48,
     "metadata": {
      "tags": []
     },
     "output_type": "execute_result"
    }
   ],
   "source": [
    "transform_function.fit(vocab)"
   ]
  },
  {
   "cell_type": "code",
   "execution_count": null,
   "metadata": {
    "id": "S0lr6UXcuxKl"
   },
   "outputs": [],
   "source": [
    "comments_train = transform_function.transform(train_comments)\n",
    "comments_test = transform_function.transform(test_comments)"
   ]
  },
  {
   "cell_type": "code",
   "execution_count": null,
   "metadata": {
    "id": "0lPMYMW6vd5F"
   },
   "outputs": [],
   "source": [
    "import numpy as np"
   ]
  },
  {
   "cell_type": "code",
   "execution_count": null,
   "metadata": {
    "id": "FHpJ4V2zviF9"
   },
   "outputs": [],
   "source": [
    "from sklearn.model_selection import cross_val_score"
   ]
  },
  {
   "cell_type": "code",
   "execution_count": null,
   "metadata": {
    "colab": {
     "base_uri": "https://localhost:8080/"
    },
    "id": "zPc4-0d5u5bY",
    "outputId": "da19a58f-7a04-492e-ae74-9a51f594e100"
   },
   "outputs": [
    {
     "name": "stdout",
     "output_type": "stream",
     "text": [
      "toxic 0.9483975859448478\n",
      "severe_toxic 0.9356866512204218\n",
      "obscene 0.972690700510528\n",
      "threat 0.8646456662150368\n",
      "insult 0.9551477410459125\n",
      "identity_hate 0.8819367764977541\n"
     ]
    }
   ],
   "source": [
    "from sklearn.ensemble import ExtraTreesClassifier\n",
    "\n",
    "losses = []\n",
    "predictions = []\n",
    "for class_name in class_names:\n",
    "    train_target = train[class_name]\n",
    "    classifier = ExtraTreesClassifier(n_estimators=30) \n",
    "    score = np.mean(cross_val_score(classifier, comments_train, train_target, cv=2, scoring='roc_auc'))\n",
    "    print(class_name, score)  \n",
    "    classifier.fit(comments_train, train_target)\n",
    "    predictions.append(classifier.predict_proba(comments_test)[:, 1])"
   ]
  },
  {
   "cell_type": "code",
   "execution_count": null,
   "metadata": {
    "id": "aUD1Wa0PvTe_"
   },
   "outputs": [],
   "source": [
    "labels=pd.read_csv('/content/drive/My Drive/Colab_data/Data_Mining/Data-Mining-Project/dataset/test_labels.csv')\n",
    "labels=np.array(labels.iloc[:,1:])\n",
    "sum_labels=np.sum(labels,axis=1)\n",
    "idx=sum_labels>=0"
   ]
  },
  {
   "cell_type": "code",
   "execution_count": null,
   "metadata": {
    "colab": {
     "base_uri": "https://localhost:8080/"
    },
    "id": "lYEc3j839bcs",
    "outputId": "eccbbffc-b4d2-46b9-c07a-f8b93c571520"
   },
   "outputs": [
    {
     "data": {
      "text/plain": [
       "((6, 63978), (63978, 6))"
      ]
     },
     "execution_count": 56,
     "metadata": {
      "tags": []
     },
     "output_type": "execute_result"
    }
   ],
   "source": [
    "preds_consider=np.array(predictions)[:,idx]\n",
    "labels_consider= labels[idx]\n",
    "preds_consider.shape,labels_consider.shape"
   ]
  },
  {
   "cell_type": "code",
   "execution_count": null,
   "metadata": {
    "colab": {
     "base_uri": "https://localhost:8080/"
    },
    "id": "rfsrc_GO9bnn",
    "outputId": "da8c79e4-d6ea-4dec-c2e0-e403ea785e70"
   },
   "outputs": [
    {
     "data": {
      "text/plain": [
       "0.9323676675669743"
      ]
     },
     "execution_count": 57,
     "metadata": {
      "tags": []
     },
     "output_type": "execute_result"
    }
   ],
   "source": [
    "from sklearn.metrics import roc_auc_score\n",
    "scores=[]\n",
    "for i in range(6):\n",
    "  scores.append(roc_auc_score(labels_consider[:,i],preds_consider[i,:]))\n",
    "np.mean(scores)"
   ]
  },
  {
   "cell_type": "code",
   "execution_count": null,
   "metadata": {
    "id": "EyKCAvIe9bif"
   },
   "outputs": [],
   "source": []
  },
  {
   "cell_type": "code",
   "execution_count": null,
   "metadata": {
    "id": "Nn5VsRCk9bW9"
   },
   "outputs": [],
   "source": []
  }
 ],
 "metadata": {
  "colab": {
   "collapsed_sections": [],
   "name": "ExtraTrees.ipynb",
   "provenance": []
  },
  "kernelspec": {
   "display_name": "Python 3",
   "language": "python",
   "name": "python3"
  },
  "language_info": {
   "codemirror_mode": {
    "name": "ipython",
    "version": 3
   },
   "file_extension": ".py",
   "mimetype": "text/x-python",
   "name": "python",
   "nbconvert_exporter": "python",
   "pygments_lexer": "ipython3",
   "version": "3.8.5"
  }
 },
 "nbformat": 4,
 "nbformat_minor": 1
}
