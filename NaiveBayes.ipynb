{
 "cells": [
  {
   "cell_type": "code",
   "execution_count": null,
   "metadata": {
    "id": "nPBb2bxXUhub"
   },
   "outputs": [],
   "source": [
    "path='/content/drive/My Drive/Colab_data/Data_Mining/Data-Mining-Project/dataset'"
   ]
  },
  {
   "cell_type": "code",
   "execution_count": null,
   "metadata": {
    "id": "Yky6T5jDUhZQ"
   },
   "outputs": [],
   "source": [
    "\"\"\"Un-Comment For Running locally out of colab\n",
    "path='./dataset'\n",
    "\"\"\"#Un-Comment For Running locally out of colab "
   ]
  },
  {
   "cell_type": "code",
   "execution_count": null,
   "metadata": {
    "id": "RUkF3GOswM81"
   },
   "outputs": [],
   "source": [
    "import pandas as pd\n",
    "import numpy as np"
   ]
  },
  {
   "cell_type": "code",
   "execution_count": null,
   "metadata": {
    "id": "OksAIRhEv9zx"
   },
   "outputs": [],
   "source": [
    "train=pd.read_csv(path+\"train.csv\")\n",
    "test=pd.read_csv(path+\"test.csv\")\n",
    "train=train[:100000]"
   ]
  },
  {
   "cell_type": "code",
   "execution_count": null,
   "metadata": {
    "colab": {
     "base_uri": "https://localhost:8080/",
     "height": 204
    },
    "executionInfo": {
     "elapsed": 4169,
     "status": "ok",
     "timestamp": 1601072589961,
     "user": {
      "displayName": "Harshit Agrawal",
      "photoUrl": "",
      "userId": "04419704427221322184"
     },
     "user_tz": -330
    },
    "id": "dgnpGKjrwObO",
    "outputId": "b14c2388-9f7f-4c65-fe34-238e42e403e1"
   },
   "outputs": [
    {
     "data": {
      "text/html": [
       "<div>\n",
       "<style scoped>\n",
       "    .dataframe tbody tr th:only-of-type {\n",
       "        vertical-align: middle;\n",
       "    }\n",
       "\n",
       "    .dataframe tbody tr th {\n",
       "        vertical-align: top;\n",
       "    }\n",
       "\n",
       "    .dataframe thead th {\n",
       "        text-align: right;\n",
       "    }\n",
       "</style>\n",
       "<table border=\"1\" class=\"dataframe\">\n",
       "  <thead>\n",
       "    <tr style=\"text-align: right;\">\n",
       "      <th></th>\n",
       "      <th>id</th>\n",
       "      <th>comment_text</th>\n",
       "      <th>toxic</th>\n",
       "      <th>severe_toxic</th>\n",
       "      <th>obscene</th>\n",
       "      <th>threat</th>\n",
       "      <th>insult</th>\n",
       "      <th>identity_hate</th>\n",
       "    </tr>\n",
       "  </thead>\n",
       "  <tbody>\n",
       "    <tr>\n",
       "      <th>0</th>\n",
       "      <td>0000997932d777bf</td>\n",
       "      <td>Explanation\\nWhy the edits made under my usern...</td>\n",
       "      <td>0</td>\n",
       "      <td>0</td>\n",
       "      <td>0</td>\n",
       "      <td>0</td>\n",
       "      <td>0</td>\n",
       "      <td>0</td>\n",
       "    </tr>\n",
       "    <tr>\n",
       "      <th>1</th>\n",
       "      <td>000103f0d9cfb60f</td>\n",
       "      <td>D'aww! He matches this background colour I'm s...</td>\n",
       "      <td>0</td>\n",
       "      <td>0</td>\n",
       "      <td>0</td>\n",
       "      <td>0</td>\n",
       "      <td>0</td>\n",
       "      <td>0</td>\n",
       "    </tr>\n",
       "    <tr>\n",
       "      <th>2</th>\n",
       "      <td>000113f07ec002fd</td>\n",
       "      <td>Hey man, I'm really not trying to edit war. It...</td>\n",
       "      <td>0</td>\n",
       "      <td>0</td>\n",
       "      <td>0</td>\n",
       "      <td>0</td>\n",
       "      <td>0</td>\n",
       "      <td>0</td>\n",
       "    </tr>\n",
       "    <tr>\n",
       "      <th>3</th>\n",
       "      <td>0001b41b1c6bb37e</td>\n",
       "      <td>\"\\nMore\\nI can't make any real suggestions on ...</td>\n",
       "      <td>0</td>\n",
       "      <td>0</td>\n",
       "      <td>0</td>\n",
       "      <td>0</td>\n",
       "      <td>0</td>\n",
       "      <td>0</td>\n",
       "    </tr>\n",
       "    <tr>\n",
       "      <th>4</th>\n",
       "      <td>0001d958c54c6e35</td>\n",
       "      <td>You, sir, are my hero. Any chance you remember...</td>\n",
       "      <td>0</td>\n",
       "      <td>0</td>\n",
       "      <td>0</td>\n",
       "      <td>0</td>\n",
       "      <td>0</td>\n",
       "      <td>0</td>\n",
       "    </tr>\n",
       "  </tbody>\n",
       "</table>\n",
       "</div>"
      ],
      "text/plain": [
       "                 id  ... identity_hate\n",
       "0  0000997932d777bf  ...             0\n",
       "1  000103f0d9cfb60f  ...             0\n",
       "2  000113f07ec002fd  ...             0\n",
       "3  0001b41b1c6bb37e  ...             0\n",
       "4  0001d958c54c6e35  ...             0\n",
       "\n",
       "[5 rows x 8 columns]"
      ]
     },
     "execution_count": 3,
     "metadata": {
      "tags": []
     },
     "output_type": "execute_result"
    }
   ],
   "source": [
    "train.head()"
   ]
  },
  {
   "cell_type": "code",
   "execution_count": null,
   "metadata": {
    "id": "aRgpzKrG25_x"
   },
   "outputs": [],
   "source": [
    "import re"
   ]
  },
  {
   "cell_type": "code",
   "execution_count": null,
   "metadata": {
    "colab": {
     "base_uri": "https://localhost:8080/",
     "height": 51
    },
    "executionInfo": {
     "elapsed": 4144,
     "status": "ok",
     "timestamp": 1601072589965,
     "user": {
      "displayName": "Harshit Agrawal",
      "photoUrl": "",
      "userId": "04419704427221322184"
     },
     "user_tz": -330
    },
    "id": "VJtBFfW049tf",
    "outputId": "9ad2b460-9e47-412a-b79a-2e1b342fb60e"
   },
   "outputs": [
    {
     "name": "stdout",
     "output_type": "stream",
     "text": [
      "[nltk_data] Downloading package stopwords to /root/nltk_data...\n",
      "[nltk_data]   Package stopwords is already up-to-date!\n"
     ]
    }
   ],
   "source": [
    "import nltk\n",
    "nltk.download('stopwords')\n",
    "from nltk.corpus import stopwords\n",
    "from nltk.stem.porter import PorterStemmer\n",
    "from sklearn.feature_extraction.text import CountVectorizer"
   ]
  },
  {
   "cell_type": "code",
   "execution_count": null,
   "metadata": {
    "id": "ZPp9W4cpzd3Z"
   },
   "outputs": [],
   "source": [
    "def clean(comment):\n",
    "  comment = comment.lower()\n",
    "  comment = re.sub('[^a-zA-Z]',' ', comment)\n",
    "  comment = comment.strip()\n",
    "  comment = comment.split()\n",
    "  stop_words = set(stopwords.words('english'))\n",
    "  stemmer = PorterStemmer()\n",
    "  comment = [stemmer.stem(word) for word in comment if word not in stop_words and len(word)<30]\n",
    "  comment = ' '.join(comment)\n",
    "  return comment"
   ]
  },
  {
   "cell_type": "code",
   "execution_count": null,
   "metadata": {
    "id": "QKhDcLbK_iDr"
   },
   "outputs": [],
   "source": [
    "def vectorise(comments):\n",
    "  vectorizer = CountVectorizer(max_features=5000)\n",
    "  X = vectorizer.fit_transform(comments)\n",
    "  return X.toarray()"
   ]
  },
  {
   "cell_type": "code",
   "execution_count": null,
   "metadata": {
    "colab": {
     "base_uri": "https://localhost:8080/",
     "height": 34
    },
    "executionInfo": {
     "elapsed": 4891,
     "status": "ok",
     "timestamp": 1601072590763,
     "user": {
      "displayName": "Harshit Agrawal",
      "photoUrl": "",
      "userId": "04419704427221322184"
     },
     "user_tz": -330
    },
    "id": "4V3qgcDI9480",
    "outputId": "e82d70a9-e61b-4b7b-808a-d239c4d6d482"
   },
   "outputs": [
    {
     "data": {
      "text/plain": [
       "100000"
      ]
     },
     "execution_count": 8,
     "metadata": {
      "tags": []
     },
     "output_type": "execute_result"
    }
   ],
   "source": [
    "raw_comments= list(train['comment_text'])\n",
    "len(raw_comments)"
   ]
  },
  {
   "cell_type": "code",
   "execution_count": null,
   "metadata": {
    "id": "4tyxvwNLTCap"
   },
   "outputs": [],
   "source": [
    "# raw_comments[5606+110000] #Led to recursion error while stemming!!!!!"
   ]
  },
  {
   "cell_type": "code",
   "execution_count": null,
   "metadata": {
    "colab": {
     "base_uri": "https://localhost:8080/",
     "height": 187
    },
    "executionInfo": {
     "elapsed": 91691,
     "status": "ok",
     "timestamp": 1601072677588,
     "user": {
      "displayName": "Harshit Agrawal",
      "photoUrl": "",
      "userId": "04419704427221322184"
     },
     "user_tz": -330
    },
    "id": "gRa7RcXC_1bp",
    "outputId": "6f337194-d0d0-4c34-cde8-ce8a5fbd37ad"
   },
   "outputs": [
    {
     "name": "stdout",
     "output_type": "stream",
     "text": [
      "0\n",
      "10000\n",
      "20000\n",
      "30000\n",
      "40000\n",
      "50000\n",
      "60000\n",
      "70000\n",
      "80000\n",
      "90000\n"
     ]
    }
   ],
   "source": [
    "comments=[]\n",
    "for i,com in enumerate(raw_comments):\n",
    "  if(i%10000==0): print(i)\n",
    "  try:\n",
    "    comments.append(clean(com))\n",
    "  except:\n",
    "    print(i,com)"
   ]
  },
  {
   "cell_type": "code",
   "execution_count": null,
   "metadata": {
    "colab": {
     "base_uri": "https://localhost:8080/",
     "height": 34
    },
    "executionInfo": {
     "elapsed": 15118,
     "status": "ok",
     "timestamp": 1601072750706,
     "user": {
      "displayName": "Harshit Agrawal",
      "photoUrl": "",
      "userId": "04419704427221322184"
     },
     "user_tz": -330
    },
    "id": "Ws4a2FjvAOAW",
    "outputId": "c81c1cdc-6897-411b-d9aa-da6bc3371772"
   },
   "outputs": [
    {
     "data": {
      "text/plain": [
       "(100000, 5000)"
      ]
     },
     "execution_count": 20,
     "metadata": {
      "tags": []
     },
     "output_type": "execute_result"
    }
   ],
   "source": [
    "x=vectorise(comments)\n",
    "x.shape"
   ]
  },
  {
   "cell_type": "code",
   "execution_count": null,
   "metadata": {
    "id": "rDR1SIICDCer"
   },
   "outputs": [],
   "source": [
    "from sklearn.naive_bayes import MultinomialNB\n",
    "from sklearn.multiclass import OneVsRestClassifier"
   ]
  },
  {
   "cell_type": "code",
   "execution_count": null,
   "metadata": {
    "colab": {
     "base_uri": "https://localhost:8080/",
     "height": 359
    },
    "executionInfo": {
     "elapsed": 98978,
     "status": "ok",
     "timestamp": 1601072684923,
     "user": {
      "displayName": "Harshit Agrawal",
      "photoUrl": "",
      "userId": "04419704427221322184"
     },
     "user_tz": -330
    },
    "id": "wl4w1o7FDTZz",
    "outputId": "bdf7320a-2558-4f82-846a-03e23494e42d"
   },
   "outputs": [
    {
     "data": {
      "text/html": [
       "<div>\n",
       "<style scoped>\n",
       "    .dataframe tbody tr th:only-of-type {\n",
       "        vertical-align: middle;\n",
       "    }\n",
       "\n",
       "    .dataframe tbody tr th {\n",
       "        vertical-align: top;\n",
       "    }\n",
       "\n",
       "    .dataframe thead th {\n",
       "        text-align: right;\n",
       "    }\n",
       "</style>\n",
       "<table border=\"1\" class=\"dataframe\">\n",
       "  <thead>\n",
       "    <tr style=\"text-align: right;\">\n",
       "      <th></th>\n",
       "      <th>toxic</th>\n",
       "      <th>severe_toxic</th>\n",
       "      <th>obscene</th>\n",
       "      <th>threat</th>\n",
       "      <th>insult</th>\n",
       "      <th>identity_hate</th>\n",
       "    </tr>\n",
       "  </thead>\n",
       "  <tbody>\n",
       "    <tr>\n",
       "      <th>0</th>\n",
       "      <td>0</td>\n",
       "      <td>0</td>\n",
       "      <td>0</td>\n",
       "      <td>0</td>\n",
       "      <td>0</td>\n",
       "      <td>0</td>\n",
       "    </tr>\n",
       "    <tr>\n",
       "      <th>1</th>\n",
       "      <td>0</td>\n",
       "      <td>0</td>\n",
       "      <td>0</td>\n",
       "      <td>0</td>\n",
       "      <td>0</td>\n",
       "      <td>0</td>\n",
       "    </tr>\n",
       "    <tr>\n",
       "      <th>2</th>\n",
       "      <td>0</td>\n",
       "      <td>0</td>\n",
       "      <td>0</td>\n",
       "      <td>0</td>\n",
       "      <td>0</td>\n",
       "      <td>0</td>\n",
       "    </tr>\n",
       "    <tr>\n",
       "      <th>3</th>\n",
       "      <td>0</td>\n",
       "      <td>0</td>\n",
       "      <td>0</td>\n",
       "      <td>0</td>\n",
       "      <td>0</td>\n",
       "      <td>0</td>\n",
       "    </tr>\n",
       "    <tr>\n",
       "      <th>4</th>\n",
       "      <td>0</td>\n",
       "      <td>0</td>\n",
       "      <td>0</td>\n",
       "      <td>0</td>\n",
       "      <td>0</td>\n",
       "      <td>0</td>\n",
       "    </tr>\n",
       "    <tr>\n",
       "      <th>5</th>\n",
       "      <td>0</td>\n",
       "      <td>0</td>\n",
       "      <td>0</td>\n",
       "      <td>0</td>\n",
       "      <td>0</td>\n",
       "      <td>0</td>\n",
       "    </tr>\n",
       "    <tr>\n",
       "      <th>6</th>\n",
       "      <td>1</td>\n",
       "      <td>1</td>\n",
       "      <td>1</td>\n",
       "      <td>0</td>\n",
       "      <td>1</td>\n",
       "      <td>0</td>\n",
       "    </tr>\n",
       "    <tr>\n",
       "      <th>7</th>\n",
       "      <td>0</td>\n",
       "      <td>0</td>\n",
       "      <td>0</td>\n",
       "      <td>0</td>\n",
       "      <td>0</td>\n",
       "      <td>0</td>\n",
       "    </tr>\n",
       "    <tr>\n",
       "      <th>8</th>\n",
       "      <td>0</td>\n",
       "      <td>0</td>\n",
       "      <td>0</td>\n",
       "      <td>0</td>\n",
       "      <td>0</td>\n",
       "      <td>0</td>\n",
       "    </tr>\n",
       "    <tr>\n",
       "      <th>9</th>\n",
       "      <td>0</td>\n",
       "      <td>0</td>\n",
       "      <td>0</td>\n",
       "      <td>0</td>\n",
       "      <td>0</td>\n",
       "      <td>0</td>\n",
       "    </tr>\n",
       "  </tbody>\n",
       "</table>\n",
       "</div>"
      ],
      "text/plain": [
       "   toxic  severe_toxic  obscene  threat  insult  identity_hate\n",
       "0      0             0        0       0       0              0\n",
       "1      0             0        0       0       0              0\n",
       "2      0             0        0       0       0              0\n",
       "3      0             0        0       0       0              0\n",
       "4      0             0        0       0       0              0\n",
       "5      0             0        0       0       0              0\n",
       "6      1             1        1       0       1              0\n",
       "7      0             0        0       0       0              0\n",
       "8      0             0        0       0       0              0\n",
       "9      0             0        0       0       0              0"
      ]
     },
     "execution_count": 13,
     "metadata": {
      "tags": []
     },
     "output_type": "execute_result"
    }
   ],
   "source": [
    "labels=train.iloc[:,2:]\n",
    "labels.head(10)"
   ]
  },
  {
   "cell_type": "code",
   "execution_count": null,
   "metadata": {
    "colab": {
     "base_uri": "https://localhost:8080/",
     "height": 34
    },
    "executionInfo": {
     "elapsed": 98964,
     "status": "ok",
     "timestamp": 1601072684925,
     "user": {
      "displayName": "Harshit Agrawal",
      "photoUrl": "",
      "userId": "04419704427221322184"
     },
     "user_tz": -330
    },
    "id": "Rfi_YZf9DuQZ",
    "outputId": "9c772248-2bd4-45c9-e8bf-48ab8bffd15d"
   },
   "outputs": [
    {
     "data": {
      "text/plain": [
       "['toxic', 'severe_toxic', 'obscene', 'threat', 'insult', 'identity_hate']"
      ]
     },
     "execution_count": 14,
     "metadata": {
      "tags": []
     },
     "output_type": "execute_result"
    }
   ],
   "source": [
    "classes=list(labels.columns)\n",
    "classes"
   ]
  },
  {
   "cell_type": "code",
   "execution_count": null,
   "metadata": {
    "colab": {
     "base_uri": "https://localhost:8080/",
     "height": 359
    },
    "executionInfo": {
     "elapsed": 98948,
     "status": "ok",
     "timestamp": 1601072684927,
     "user": {
      "displayName": "Harshit Agrawal",
      "photoUrl": "",
      "userId": "04419704427221322184"
     },
     "user_tz": -330
    },
    "id": "1XWEtBQ4HuvV",
    "outputId": "22db1a58-03b2-428c-a87e-bac3e7a10f46"
   },
   "outputs": [
    {
     "data": {
      "text/html": [
       "<div>\n",
       "<style scoped>\n",
       "    .dataframe tbody tr th:only-of-type {\n",
       "        vertical-align: middle;\n",
       "    }\n",
       "\n",
       "    .dataframe tbody tr th {\n",
       "        vertical-align: top;\n",
       "    }\n",
       "\n",
       "    .dataframe thead th {\n",
       "        text-align: right;\n",
       "    }\n",
       "</style>\n",
       "<table border=\"1\" class=\"dataframe\">\n",
       "  <thead>\n",
       "    <tr style=\"text-align: right;\">\n",
       "      <th></th>\n",
       "      <th>toxic</th>\n",
       "      <th>severe_toxic</th>\n",
       "      <th>obscene</th>\n",
       "      <th>threat</th>\n",
       "      <th>insult</th>\n",
       "      <th>identity_hate</th>\n",
       "    </tr>\n",
       "  </thead>\n",
       "  <tbody>\n",
       "    <tr>\n",
       "      <th>0</th>\n",
       "      <td>0</td>\n",
       "      <td>0</td>\n",
       "      <td>0</td>\n",
       "      <td>0</td>\n",
       "      <td>0</td>\n",
       "      <td>0</td>\n",
       "    </tr>\n",
       "    <tr>\n",
       "      <th>1</th>\n",
       "      <td>0</td>\n",
       "      <td>0</td>\n",
       "      <td>0</td>\n",
       "      <td>0</td>\n",
       "      <td>0</td>\n",
       "      <td>0</td>\n",
       "    </tr>\n",
       "    <tr>\n",
       "      <th>2</th>\n",
       "      <td>0</td>\n",
       "      <td>0</td>\n",
       "      <td>0</td>\n",
       "      <td>0</td>\n",
       "      <td>0</td>\n",
       "      <td>0</td>\n",
       "    </tr>\n",
       "    <tr>\n",
       "      <th>3</th>\n",
       "      <td>0</td>\n",
       "      <td>0</td>\n",
       "      <td>0</td>\n",
       "      <td>0</td>\n",
       "      <td>0</td>\n",
       "      <td>0</td>\n",
       "    </tr>\n",
       "    <tr>\n",
       "      <th>4</th>\n",
       "      <td>0</td>\n",
       "      <td>0</td>\n",
       "      <td>0</td>\n",
       "      <td>0</td>\n",
       "      <td>0</td>\n",
       "      <td>0</td>\n",
       "    </tr>\n",
       "    <tr>\n",
       "      <th>5</th>\n",
       "      <td>0</td>\n",
       "      <td>0</td>\n",
       "      <td>0</td>\n",
       "      <td>0</td>\n",
       "      <td>0</td>\n",
       "      <td>0</td>\n",
       "    </tr>\n",
       "    <tr>\n",
       "      <th>6</th>\n",
       "      <td>1</td>\n",
       "      <td>1</td>\n",
       "      <td>1</td>\n",
       "      <td>0</td>\n",
       "      <td>1</td>\n",
       "      <td>0</td>\n",
       "    </tr>\n",
       "    <tr>\n",
       "      <th>7</th>\n",
       "      <td>0</td>\n",
       "      <td>0</td>\n",
       "      <td>0</td>\n",
       "      <td>0</td>\n",
       "      <td>0</td>\n",
       "      <td>0</td>\n",
       "    </tr>\n",
       "    <tr>\n",
       "      <th>8</th>\n",
       "      <td>0</td>\n",
       "      <td>0</td>\n",
       "      <td>0</td>\n",
       "      <td>0</td>\n",
       "      <td>0</td>\n",
       "      <td>0</td>\n",
       "    </tr>\n",
       "    <tr>\n",
       "      <th>9</th>\n",
       "      <td>0</td>\n",
       "      <td>0</td>\n",
       "      <td>0</td>\n",
       "      <td>0</td>\n",
       "      <td>0</td>\n",
       "      <td>0</td>\n",
       "    </tr>\n",
       "  </tbody>\n",
       "</table>\n",
       "</div>"
      ],
      "text/plain": [
       "   toxic  severe_toxic  obscene  threat  insult  identity_hate\n",
       "0      0             0        0       0       0              0\n",
       "1      0             0        0       0       0              0\n",
       "2      0             0        0       0       0              0\n",
       "3      0             0        0       0       0              0\n",
       "4      0             0        0       0       0              0\n",
       "5      0             0        0       0       0              0\n",
       "6      1             1        1       0       1              0\n",
       "7      0             0        0       0       0              0\n",
       "8      0             0        0       0       0              0\n",
       "9      0             0        0       0       0              0"
      ]
     },
     "execution_count": 15,
     "metadata": {
      "tags": []
     },
     "output_type": "execute_result"
    }
   ],
   "source": [
    "labels.head(10)"
   ]
  },
  {
   "cell_type": "code",
   "execution_count": null,
   "metadata": {
    "id": "cv6nFCTcLZvH"
   },
   "outputs": [],
   "source": [
    "y=[]\n",
    "for idx,row in labels.iterrows():\n",
    "  y.append(row.values)\n",
    "y=np.array(y)"
   ]
  },
  {
   "cell_type": "code",
   "execution_count": null,
   "metadata": {
    "id": "IWRKN8qTBJHI"
   },
   "outputs": [],
   "source": [
    "from sklearn.model_selection import train_test_split\n",
    "X_train, X_val, y_train, y_val = train_test_split(x,y,test_size=0.2,random_state=1)"
   ]
  },
  {
   "cell_type": "code",
   "execution_count": null,
   "metadata": {
    "id": "iRFXgwFeI48q"
   },
   "outputs": [],
   "source": [
    "from sklearn.metrics import confusion_matrix\n",
    "from sklearn.metrics import accuracy_score"
   ]
  },
  {
   "cell_type": "code",
   "execution_count": null,
   "metadata": {
    "colab": {
     "base_uri": "https://localhost:8080/",
     "height": 782
    },
    "executionInfo": {
     "elapsed": 149507,
     "status": "ok",
     "timestamp": 1601072735549,
     "user": {
      "displayName": "Harshit Agrawal",
      "photoUrl": "",
      "userId": "04419704427221322184"
     },
     "user_tz": -330
    },
    "id": "Dpkchy6eBJDe",
    "outputId": "eb11d5b1-cd4f-480d-fab8-a973507842c7"
   },
   "outputs": [
    {
     "name": "stdout",
     "output_type": "stream",
     "text": [
      "Class:  toxic\n",
      "Train Accuracy: 0.95235\n",
      "Val Accuracy: 0.94945\n",
      "[[17648   402]\n",
      " [  609  1341]]\n",
      "precision 0.7694 recall 0.6877 F1 score 0.7262:\n",
      "\n",
      "Class:  severe_toxic\n",
      "Train Accuracy: 0.984325\n",
      "Val Accuracy: 0.9826\n",
      "[[19508   287]\n",
      " [   61   144]]\n",
      "precision 0.3341 recall 0.7024 F1 score 0.4528:\n",
      "\n",
      "Class:  obscene\n",
      "Train Accuracy: 0.9713875\n",
      "Val Accuracy: 0.9685\n",
      "[[18559   380]\n",
      " [  250   811]]\n",
      "precision 0.6809 recall 0.7644 F1 score 0.7202:\n",
      "\n",
      "Class:  threat\n",
      "Train Accuracy: 0.99025\n",
      "Val Accuracy: 0.9891\n",
      "[[19754   185]\n",
      " [   33    28]]\n",
      "precision 0.1315 recall 0.4590 F1 score 0.2044:\n",
      "\n",
      "Class:  insult\n",
      "Train Accuracy: 0.964775\n",
      "Val Accuracy: 0.96215\n",
      "[[18561   465]\n",
      " [  292   682]]\n",
      "precision 0.5946 recall 0.7002 F1 score 0.6431:\n",
      "\n",
      "Class:  identity_hate\n",
      "Train Accuracy: 0.98105\n",
      "Val Accuracy: 0.97945\n",
      "[[19490   352]\n",
      " [   59    99]]\n",
      "precision 0.2195 recall 0.6266 F1 score 0.3251:\n",
      "\n",
      "mean train accuracy :  0.9740229166666667\n",
      "mean val accuracy : 0.9718749999999999\n",
      "mean val F1 score : 0.5119811032175334\n"
     ]
    }
   ],
   "source": [
    "model = MultinomialNB()\n",
    "\n",
    "train_acc = []\n",
    "val_acc = []\n",
    "\n",
    "preds_train = []\n",
    "preds_val = []\n",
    "\n",
    "f1_val = []\n",
    "\n",
    "for i, label_name in enumerate(classes):\n",
    "    print('Class: ',label_name)\n",
    "    model.fit(X_train,y_train[:,i])\n",
    "  \n",
    "    preds_train_class = model.predict(X_train)\n",
    "    train_acc_class = accuracy_score(y_train[:,i], preds_train_class)\n",
    "    print('Train Accuracy:', train_acc_class)\n",
    "    train_acc.append(train_acc_class)\n",
    "    preds_train.append(preds_train_class)\n",
    "\n",
    "    preds_val_class = model.predict(X_val)\n",
    "    val_acc_class = accuracy_score(y_val[:,i], preds_val_class)\n",
    "    print('Val Accuracy:', val_acc_class)\n",
    "    val_acc.append(val_acc_class)\n",
    "    preds_val.append(preds_val_class)\n",
    "\n",
    "    cm = confusion_matrix(y_val[:,i], preds_val_class)\n",
    "    print(cm)\n",
    "\n",
    "    tn, fp, fn, tp = cm.ravel()\n",
    "    precision= tp/(tp+fp+1e-5)\n",
    "    recall= tp/(tp+fn+1e-5)\n",
    "    f1_score= (2*precision*recall)/(precision+recall+1e-5)\n",
    "    print('precision {:.4f} recall {:.4f} F1 score {:.4f}:'.format(precision,recall,f1_score))\n",
    "    f1_val.append(f1_score)\n",
    "\n",
    "    print()\n",
    "    \n",
    "print('mean train accuracy : ', np.mean(train_acc))\n",
    "print('mean val accuracy :', np.mean(val_acc))\n",
    "print('mean val F1 score :', np.mean(f1_val))"
   ]
  },
  {
   "cell_type": "code",
   "execution_count": null,
   "metadata": {
    "id": "jSXMn8rnQ-fF"
   },
   "outputs": [],
   "source": []
  }
 ],
 "metadata": {
  "colab": {
   "authorship_tag": "ABX9TyM4QZNtNOcH6XKnZK8aC+Gn",
   "collapsed_sections": [],
   "mount_file_id": "1LA1QOAT4cZZ1waGwoSmVHEBuqAuZQBeo",
   "name": "Naive Bayes.ipynb",
   "provenance": []
  },
  "kernelspec": {
   "display_name": "Python 3",
   "language": "python",
   "name": "python3"
  },
  "language_info": {
   "codemirror_mode": {
    "name": "ipython",
    "version": 3
   },
   "file_extension": ".py",
   "mimetype": "text/x-python",
   "name": "python",
   "nbconvert_exporter": "python",
   "pygments_lexer": "ipython3",
   "version": "3.8.5"
  }
 },
 "nbformat": 4,
 "nbformat_minor": 1
}
